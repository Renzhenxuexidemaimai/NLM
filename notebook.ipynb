{
 "cells": [
  {
   "cell_type": "code",
   "execution_count": 1,
   "metadata": {},
   "outputs": [
    {
     "name": "stdout",
     "output_type": "stream",
     "text": [
      "/Users/HaoShaochun/Yam/NLM/nlm\n"
     ]
    }
   ],
   "source": [
    "cd nlm"
   ]
  },
  {
   "cell_type": "code",
   "execution_count": 2,
   "metadata": {},
   "outputs": [],
   "source": [
    "from configs.config import neo_port\n",
    "from py2neo.database import Graph\n",
    "from nlm import NLMLayer"
   ]
  },
  {
   "cell_type": "code",
   "execution_count": 3,
   "metadata": {},
   "outputs": [],
   "source": [
    "from nlm import GraphNode, GraphRelation"
   ]
  },
  {
   "cell_type": "code",
   "execution_count": 4,
   "metadata": {},
   "outputs": [],
   "source": [
    "mem = NLMLayer(graph=Graph(port=neo_port))"
   ]
  },
  {
   "cell_type": "code",
   "execution_count": 7,
   "metadata": {},
   "outputs": [],
   "source": [
    "start = GraphNode(\"Person\", \"AliceThree\")\n",
    "end = GraphNode(\"Person\", \"AliceOne\")\n",
    "relation = GraphRelation(start, end, \"LOVES\")"
   ]
  },
  {
   "cell_type": "markdown",
   "metadata": {},
   "source": [
    "### node"
   ]
  },
  {
   "cell_type": "code",
   "execution_count": 15,
   "metadata": {
    "scrolled": false
   },
   "outputs": [
    {
     "data": {
      "text/plain": [
       "[GraphNode(label='Person', name='AliceThree', props={'age': 22, 'sex': 'male'})]"
      ]
     },
     "execution_count": 15,
     "metadata": {},
     "output_type": "execute_result"
    }
   ],
   "source": [
    "mem(start)"
   ]
  },
  {
   "cell_type": "code",
   "execution_count": 16,
   "metadata": {},
   "outputs": [
    {
     "data": {
      "text/plain": [
       "[]"
      ]
     },
     "execution_count": 16,
     "metadata": {},
     "output_type": "execute_result"
    }
   ],
   "source": [
    "new = GraphNode(\"Person\", \"Bob\")\n",
    "mem(new, add_inexistence=True)"
   ]
  },
  {
   "cell_type": "code",
   "execution_count": 17,
   "metadata": {},
   "outputs": [
    {
     "data": {
      "text/plain": [
       "[GraphNode(label='Person', name='AliceTwo', props={'age': 21, 'occupation': 'teacher'})]"
      ]
     },
     "execution_count": 17,
     "metadata": {},
     "output_type": "execute_result"
    }
   ],
   "source": [
    "node = GraphNode(\"Person\", \"AliceT\")\n",
    "mem(node, fuzzy_node=True)"
   ]
  },
  {
   "cell_type": "code",
   "execution_count": 18,
   "metadata": {},
   "outputs": [
    {
     "data": {
      "text/plain": [
       "[GraphNode(label='Person', name='AliceThree', props={'age': 24, 'sex': 'male'})]"
      ]
     },
     "execution_count": 18,
     "metadata": {},
     "output_type": "execute_result"
    }
   ],
   "source": [
    "node = GraphNode(\"Person\", \"AliceThree\", props={\"age\": 24})\n",
    "mem(node, update_props=True)"
   ]
  },
  {
   "cell_type": "code",
   "execution_count": 19,
   "metadata": {},
   "outputs": [
    {
     "data": {
      "text/plain": [
       "[GraphNode(label='Person', name='AliceTwo', props={'age': 21, 'occupation': 'teacher'}),\n",
       " GraphNode(label='Person', name='AliceThree', props={'age': 24, 'sex': 'male'})]"
      ]
     },
     "execution_count": 19,
     "metadata": {},
     "output_type": "execute_result"
    }
   ],
   "source": [
    "node = GraphNode(\"Person\", \"AliceT\")\n",
    "mem(node, fuzzy_node=True, topn=2)"
   ]
  },
  {
   "cell_type": "markdown",
   "metadata": {},
   "source": [
    "### relationship"
   ]
  },
  {
   "cell_type": "code",
   "execution_count": 12,
   "metadata": {},
   "outputs": [
    {
     "data": {
      "text/plain": [
       "[GraphRelation(start=GraphNode(label='Person', name='AliceThree', props={'age': 22, 'sex': 'male'}), end=GraphNode(label='Person', name='AliceOne', props={'occupation': 'teacher', 'age': 22, 'sex': 'female'}), kind='LOVES', props={'from': 2011, 'roles': 'husband'})]"
      ]
     },
     "execution_count": 12,
     "metadata": {},
     "output_type": "execute_result"
    }
   ],
   "source": [
    "mem(relation)"
   ]
  },
  {
   "cell_type": "code",
   "execution_count": 20,
   "metadata": {},
   "outputs": [
    {
     "data": {
      "text/plain": [
       "[]"
      ]
     },
     "execution_count": 20,
     "metadata": {},
     "output_type": "execute_result"
    }
   ],
   "source": [
    "start = GraphNode(\"Person\", \"AliceThree\")\n",
    "end = GraphNode(\"Person\", \"Bob\")\n",
    "relation = GraphRelation(start, end, \"KNOWS\")\n",
    "mem(relation, add_inexistence=True)"
   ]
  },
  {
   "cell_type": "code",
   "execution_count": 37,
   "metadata": {},
   "outputs": [
    {
     "data": {
      "text/plain": [
       "[GraphRelation(start=GraphNode(label='Person', name='AliceThree', props={'age': 24, 'sex': 'male'}), end=GraphNode(label='Person', name='AliceOne', props={'occupation': 'teacher', 'age': 22, 'sex': 'female'}), kind='LOVES', props={'from': 2011, 'roles': 'husband'})]"
      ]
     },
     "execution_count": 37,
     "metadata": {},
     "output_type": "execute_result"
    }
   ],
   "source": [
    "start = GraphNode(\"Person\", \"AliceTh\")\n",
    "end = GraphNode(\"Person\", \"AliceO\")\n",
    "relation = GraphRelation(start, end, \"LOVES\")\n",
    "mem(relation, fuzzy_node=True)"
   ]
  },
  {
   "cell_type": "code",
   "execution_count": 40,
   "metadata": {},
   "outputs": [
    {
     "data": {
      "text/plain": [
       "[GraphRelation(start=GraphNode(label='Person', name='AliceThree', props={'age': 24, 'sex': 'male'}), end=GraphNode(label='Person', name='AliceOne', props={'occupation': 'teacher', 'age': 22, 'sex': 'female'}), kind='WORK_WITH', props={'from': 2009, 'roles': 'boss'}),\n",
       " GraphRelation(start=GraphNode(label='Person', name='AliceThree', props={'age': 24, 'sex': 'male'}), end=GraphNode(label='Person', name='AliceOne', props={'occupation': 'teacher', 'age': 22, 'sex': 'female'}), kind='LOVES', props={'from': 2011, 'roles': 'husband'})]"
      ]
     },
     "execution_count": 40,
     "metadata": {},
     "output_type": "execute_result"
    }
   ],
   "source": [
    "start = GraphNode(\"Person\", \"AliceThree\")\n",
    "end = GraphNode(\"Person\", \"AliceOne\")\n",
    "relation = GraphRelation(start, end)\n",
    "mem(relation, topn=3)"
   ]
  },
  {
   "cell_type": "code",
   "execution_count": 42,
   "metadata": {},
   "outputs": [
    {
     "data": {
      "text/plain": [
       "[GraphRelation(start=GraphNode(label='Person', name='AliceThree', props={'age': 24, 'sex': 'male'}), end=GraphNode(label='Person', name='Bob', props={}), kind='KNOWS', props={})]"
      ]
     },
     "execution_count": 42,
     "metadata": {},
     "output_type": "execute_result"
    }
   ],
   "source": [
    "start = GraphNode(\"Person\", \"AliceThree\")\n",
    "end = GraphNode(\"Person\", \"Bob\")\n",
    "relation = GraphRelation(start, end, \"KNOWS\", {\"roles\": \"classmate\"})\n",
    "mem(relation, update_props=True)"
   ]
  },
  {
   "cell_type": "code",
   "execution_count": 43,
   "metadata": {},
   "outputs": [
    {
     "data": {
      "text/plain": [
       "[GraphRelation(start=GraphNode(label='Person', name='AliceThree', props={'age': 24, 'sex': 'male'}), end=GraphNode(label='Person', name='Bob', props={}), kind='KNOWS', props={'roles': 'classmate'})]"
      ]
     },
     "execution_count": 43,
     "metadata": {},
     "output_type": "execute_result"
    }
   ],
   "source": [
    "mem(relation)"
   ]
  },
  {
   "cell_type": "code",
   "execution_count": 44,
   "metadata": {},
   "outputs": [
    {
     "data": {
      "text/plain": [
       "[GraphRelation(start=GraphNode(label='Person', name='AliceThree', props={'age': 24, 'sex': 'male'}), end=GraphNode(label='Person', name='Bob', props={'sex': 'male'}), kind='KNOWS', props={'roles': 'friend'})]"
      ]
     },
     "execution_count": 44,
     "metadata": {},
     "output_type": "execute_result"
    }
   ],
   "source": [
    "start = GraphNode(\"Person\", \"AliceThree\")\n",
    "end = GraphNode(\"Person\", \"Bob\", {\"sex\": \"male\"})\n",
    "relation = GraphRelation(start, end, \"KNOWS\", {\"roles\": \"friend\"})\n",
    "mem(relation, update_props=True)"
   ]
  },
  {
   "cell_type": "code",
   "execution_count": 45,
   "metadata": {},
   "outputs": [
    {
     "data": {
      "text/plain": [
       "[GraphRelation(start=GraphNode(label='Person', name='AliceThree', props={'age': 24, 'sex': 'male'}), end=GraphNode(label='Person', name='Bob', props={'sex': 'male'}), kind='KNOWS', props={'roles': 'friend'})]"
      ]
     },
     "execution_count": 45,
     "metadata": {},
     "output_type": "execute_result"
    }
   ],
   "source": [
    "start = GraphNode(\"Person\", \"AliceThree\")\n",
    "end = GraphNode(\"Person\", \"Bob\", {\"sex\": \"male\"})\n",
    "relation = GraphRelation(start, end, \"STUDY_WITH\", {\"roles\": \"classmate\"})\n",
    "mem(relation, update_props=True)"
   ]
  },
  {
   "cell_type": "code",
   "execution_count": 46,
   "metadata": {},
   "outputs": [
    {
     "data": {
      "text/plain": [
       "[GraphRelation(start=GraphNode(label='Person', name='AliceThree', props={'age': 24, 'sex': 'male'}), end=GraphNode(label='Person', name='Bob', props={'sex': 'male'}), kind='STUDY_WITH', props={'roles': 'classmate'})]"
      ]
     },
     "execution_count": 46,
     "metadata": {},
     "output_type": "execute_result"
    }
   ],
   "source": [
    "mem(relation)"
   ]
  },
  {
   "cell_type": "code",
   "execution_count": 48,
   "metadata": {},
   "outputs": [
    {
     "data": {
      "text/plain": [
       "[GraphRelation(start=GraphNode(label='Person', name='AliceThree', props={'age': 24, 'sex': 'male'}), end=GraphNode(label='Person', name='Bob', props={'sex': 'male'}), kind='STUDY_WITH', props={'roles': 'classmate'}),\n",
       " GraphRelation(start=GraphNode(label='Person', name='AliceThree', props={'age': 24, 'sex': 'male'}), end=GraphNode(label='Person', name='Bob', props={'sex': 'male'}), kind='KNOWS', props={'roles': 'friend'})]"
      ]
     },
     "execution_count": 48,
     "metadata": {},
     "output_type": "execute_result"
    }
   ],
   "source": [
    "mem(GraphRelation(start, end), topn=2)"
   ]
  },
  {
   "cell_type": "markdown",
   "metadata": {},
   "source": [
    "### graph"
   ]
  },
  {
   "cell_type": "code",
   "execution_count": 49,
   "metadata": {},
   "outputs": [
    {
     "data": {
      "text/plain": [
       "frozenset({'Person'})"
      ]
     },
     "execution_count": 49,
     "metadata": {},
     "output_type": "execute_result"
    }
   ],
   "source": [
    "mem.labels"
   ]
  },
  {
   "cell_type": "code",
   "execution_count": 53,
   "metadata": {},
   "outputs": [
    {
     "data": {
      "text/plain": [
       "frozenset({'KNOWS', 'LIKES', 'LOVES', 'STUDY_WITH', 'WORK_WITH'})"
      ]
     },
     "execution_count": 53,
     "metadata": {},
     "output_type": "execute_result"
    }
   ],
   "source": [
    "mem.relationship_types"
   ]
  },
  {
   "cell_type": "code",
   "execution_count": 55,
   "metadata": {},
   "outputs": [
    {
     "data": {
      "text/plain": [
       "9"
      ]
     },
     "execution_count": 55,
     "metadata": {},
     "output_type": "execute_result"
    }
   ],
   "source": [
    "mem.nodes_num"
   ]
  },
  {
   "cell_type": "code",
   "execution_count": 56,
   "metadata": {},
   "outputs": [
    {
     "data": {
      "text/plain": [
       "10"
      ]
     },
     "execution_count": 56,
     "metadata": {},
     "output_type": "execute_result"
    }
   ],
   "source": [
    "mem.relationships_num"
   ]
  },
  {
   "cell_type": "code",
   "execution_count": 57,
   "metadata": {},
   "outputs": [
    {
     "data": {
      "text/plain": [
       "<generator object RelationshipMatch.__iter__ at 0x105a52850>"
      ]
     },
     "execution_count": 57,
     "metadata": {},
     "output_type": "execute_result"
    }
   ],
   "source": [
    "mem.relationships"
   ]
  },
  {
   "cell_type": "code",
   "execution_count": 61,
   "metadata": {},
   "outputs": [
    {
     "data": {
      "text/plain": [
       "[{'a.age': 21, 'a.name': 'AliceTwo'},\n",
       " {'a.age': 23, 'a.name': 'AliceFour'},\n",
       " {'a.age': 22, 'a.name': 'AliceOne'},\n",
       " {'a.age': 24, 'a.name': 'AliceFive'},\n",
       " {'a.age': None, 'a.name': 'Bob'}]"
      ]
     },
     "execution_count": 61,
     "metadata": {},
     "output_type": "execute_result"
    }
   ],
   "source": [
    "mem.query(\"MATCH (a:Person) RETURN a.age, a.name LIMIT 5\")"
   ]
  },
  {
   "cell_type": "code",
   "execution_count": null,
   "metadata": {},
   "outputs": [],
   "source": []
  }
 ],
 "metadata": {
  "kernelspec": {
   "display_name": "Python 3",
   "language": "python",
   "name": "python3"
  },
  "language_info": {
   "codemirror_mode": {
    "name": "ipython",
    "version": 3
   },
   "file_extension": ".py",
   "mimetype": "text/x-python",
   "name": "python",
   "nbconvert_exporter": "python",
   "pygments_lexer": "ipython3",
   "version": "3.7.4"
  },
  "latex_envs": {
   "LaTeX_envs_menu_present": true,
   "autoclose": false,
   "autocomplete": true,
   "bibliofile": "biblio.bib",
   "cite_by": "apalike",
   "current_citInitial": 1,
   "eqLabelWithNumbers": true,
   "eqNumInitial": 1,
   "hotkeys": {
    "equation": "Ctrl-E",
    "itemize": "Ctrl-I"
   },
   "labels_anchors": false,
   "latex_user_defs": false,
   "report_style_numbering": false,
   "user_envs_cfg": false
  },
  "toc": {
   "base_numbering": 1,
   "nav_menu": {},
   "number_sections": true,
   "sideBar": true,
   "skip_h1_title": false,
   "title_cell": "Table of Contents",
   "title_sidebar": "Contents",
   "toc_cell": false,
   "toc_position": {},
   "toc_section_display": true,
   "toc_window_display": false
  }
 },
 "nbformat": 4,
 "nbformat_minor": 2
}
